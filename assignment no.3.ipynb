{
 "cells": [
  {
   "cell_type": "markdown",
   "id": "a45aa34a-5412-46d1-b233-bfc5a27730f7",
   "metadata": {},
   "source": [
    "1.Write a program that accepts a string from user. Your program should count and display number of vowels in that string."
   ]
  },
  {
   "cell_type": "code",
   "execution_count": 1,
   "id": "12edb5ff-7158-4e60-bd65-a9c6a50b3f56",
   "metadata": {},
   "outputs": [
    {
     "name": "stdin",
     "output_type": "stream",
     "text": [
      "enter a string   jdsfhsjf\n"
     ]
    },
    {
     "data": {
      "text/plain": [
       "0"
      ]
     },
     "execution_count": 1,
     "metadata": {},
     "output_type": "execute_result"
    }
   ],
   "source": [
    "str= input(\"enter a string  \")\n",
    "a=str.count(\"a\")\n",
    "b=str.count(\"e\")\n",
    "c=str.count(\"i\")\n",
    "d=str.count(\"o\")\n",
    "e=str.count(\"u\")\n",
    "num=a+b+c+d+e\n",
    "num"
   ]
  },
  {
   "cell_type": "markdown",
   "id": "f73b8102-3969-469c-bf4a-5755231cab8b",
   "metadata": {},
   "source": [
    "2.Write a program that reads a string from keyboard and display:\n",
    "The number of uppercase letters in the string\n",
    "The number of lowercase letters in the string\n",
    "The number of digits in the string\n",
    "The number of whitespace characters in the string"
   ]
  },
  {
   "cell_type": "code",
   "execution_count": 3,
   "id": "54e9c0e8-f11a-488e-b965-b46cbb1e7e37",
   "metadata": {},
   "outputs": [
    {
     "name": "stdin",
     "output_type": "stream",
     "text": [
      "Enter a string:  hamza\n"
     ]
    },
    {
     "name": "stdout",
     "output_type": "stream",
     "text": [
      "Uppercase letters: 0\n",
      "Lowercase letters: 5\n",
      "Digits: 0\n",
      "Whitespace characters: 0\n"
     ]
    }
   ],
   "source": [
    "text = input(\"Enter a string: \")\n",
    "\n",
    "upper = 0\n",
    "lower = 0\n",
    "digit = 0\n",
    "space = 0\n",
    "\n",
    "for ch in text:\n",
    "    if ch.isupper():\n",
    "        upper += 1\n",
    "    elif ch.islower():\n",
    "        lower += 1\n",
    "    elif ch.isdigit():\n",
    "        digit += 1\n",
    "    elif ch.isspace():\n",
    "        space += 1\n",
    "\n",
    "print(\"Uppercase letters:\", upper)\n",
    "print(\"Lowercase letters:\", lower)\n",
    "print(\"Digits:\", digit)\n",
    "print(\"Whitespace characters:\", space)"
   ]
  },
  {
   "cell_type": "markdown",
   "id": "0c8a4d1e-1dc7-44e4-a3b1-b72c698c3a90",
   "metadata": {},
   "source": [
    "3.Write a Python program that accepts a string from user. Your program should create and display a new string where the first and last characters have been exchanged."
   ]
  },
  {
   "cell_type": "code",
   "execution_count": 4,
   "id": "4375ccfc-5d1a-4fbe-b317-792ee0c9ea7f",
   "metadata": {},
   "outputs": [
    {
     "name": "stdin",
     "output_type": "stream",
     "text": [
      "enter a string  hamza\n"
     ]
    },
    {
     "data": {
      "text/plain": [
       "'aamzh'"
      ]
     },
     "execution_count": 4,
     "metadata": {},
     "output_type": "execute_result"
    }
   ],
   "source": [
    "text=input(\"enter a string \")\n",
    "jumble=text[-1]+text[1:-1]+text[0]\n",
    "jumble"
   ]
  },
  {
   "cell_type": "markdown",
   "id": "93282635-e8eb-45bc-87a1-5340ccc5e6cd",
   "metadata": {},
   "source": [
    "4.Write a Python program that accepts a string from user. Your program should create a new string in reverse of first string and display it."
   ]
  },
  {
   "cell_type": "code",
   "execution_count": 5,
   "id": "850007ac-f505-4070-93dd-b031c8deb02a",
   "metadata": {},
   "outputs": [
    {
     "name": "stdin",
     "output_type": "stream",
     "text": [
      "enter a string  yallo\n"
     ]
    },
    {
     "data": {
      "text/plain": [
       "'ollay'"
      ]
     },
     "execution_count": 5,
     "metadata": {},
     "output_type": "execute_result"
    }
   ],
   "source": [
    "text=input(\"enter a string \")\n",
    "rev=text[::-1]\n",
    "rev"
   ]
  },
  {
   "cell_type": "markdown",
   "id": "2117123f-5750-45d9-94d2-baae5ffa6416",
   "metadata": {},
   "source": [
    "5.Write a Python program that accepts a string from user. Your program should create a new string by shifting one position to left. For example if the user enters the string 'examination 2021' then new string would be 'xamination 2021e'"
   ]
  },
  {
   "cell_type": "code",
   "execution_count": 6,
   "id": "1e8dbb73-347a-476c-89bb-8aaff19d5d48",
   "metadata": {},
   "outputs": [
    {
     "name": "stdin",
     "output_type": "stream",
     "text": [
      "enter a string  billi\n"
     ]
    },
    {
     "data": {
      "text/plain": [
       "'illb'"
      ]
     },
     "execution_count": 6,
     "metadata": {},
     "output_type": "execute_result"
    }
   ],
   "source": [
    "text=input(\"enter a string \")\n",
    "shift=text[1:-1:]+text[0]\n",
    "shift"
   ]
  },
  {
   "cell_type": "markdown",
   "id": "1ae80757-5d7c-40fe-b13b-b7cb7962cbe4",
   "metadata": {},
   "source": [
    "6.Write a program that asks the user to input his name and print its initials. Assuming that the user always types first name, middle name and last name and does not include any unnecessary spaces. For example, if the user enters Ajay Kumar Garg the program should display A. K. G. Note:Don't use split() method"
   ]
  },
  {
   "cell_type": "code",
   "execution_count": 7,
   "id": "6a9046ca-1354-4ceb-bd8a-da149cde2b20",
   "metadata": {},
   "outputs": [
    {
     "name": "stdin",
     "output_type": "stream",
     "text": [
      "Enter your full name (first, middle, last):  Hamza Aleem\n"
     ]
    },
    {
     "name": "stdout",
     "output_type": "stream",
     "text": [
      "Initials: H. A. "
     ]
    }
   ],
   "source": [
    "name = input(\"Enter your full name (first, middle, last): \")\n",
    "\n",
    "print(\"Initials:\", end=\" \")\n",
    "\n",
    "print(name[0].upper() + \".\", end=\" \")\n",
    "\n",
    "\n",
    "for i in range(len(name)):\n",
    "    if name[i] == \" \":\n",
    "        # Character after space is the next initial\n",
    "        print(name[i+1].upper() + \".\", end=\" \")"
   ]
  },
  {
   "cell_type": "markdown",
   "id": "48dff4e7-dd4d-49c5-9f66-f3302d7586f5",
   "metadata": {},
   "source": [
    "7.A palindrome is a string that reads the same backward as forward. For example, the words dad, madam and radar are all palindromes. Write a programs that determines whether the string is a palindrome. Note: do not use reverse() method"
   ]
  },
  {
   "cell_type": "code",
   "execution_count": 8,
   "id": "ff6399f3-3b31-4310-9861-1aaacd29a319",
   "metadata": {},
   "outputs": [
    {
     "name": "stdin",
     "output_type": "stream",
     "text": [
      "entera string to check if palindrome   amma\n"
     ]
    },
    {
     "name": "stdout",
     "output_type": "stream",
     "text": [
      "it is a palindrome\n"
     ]
    }
   ],
   "source": [
    "text=input(\"entera string to check if palindrome  \")\n",
    "if text==text[::-1]:\n",
    "    print(\"it is a palindrome\")\n",
    "else:\n",
    "    print(\"not a palindrome \")"
   ]
  },
  {
   "cell_type": "markdown",
   "id": "795c8bfb-468d-4eaa-9772-968ba5d16baa",
   "metadata": {},
   "source": [
    "8.Write a program that display following output: SHIFT HIFTS IFTSH FTSHI TSHIF SHIFT"
   ]
  },
  {
   "cell_type": "code",
   "execution_count": 9,
   "id": "8f94ea59-87c7-4971-98f6-c63492cacd93",
   "metadata": {},
   "outputs": [
    {
     "name": "stdout",
     "output_type": "stream",
     "text": [
      "SHIFT\n",
      "HIFTS\n",
      "IFTSH\n",
      "FTSHI\n",
      "TSHIF\n",
      "SHIFT\n"
     ]
    }
   ],
   "source": [
    "text = \"SHIFT\"\n",
    "\n",
    "for i in range(len(text) + 1):\n",
    "    print(text[i:] + text[:i])"
   ]
  },
  {
   "cell_type": "markdown",
   "id": "cc836fd8-a71a-464e-b976-ada1ecbe37ac",
   "metadata": {},
   "source": [
    "Write a program in python that accepts a string to setup a passwords. Your entered password must meet the following requirements: The password must be at least eight characters long. It must contain at least one uppercase letter. It must contain at least one lowercase letter. It must contain at least one numeric digit. Your program should should perform this validation."
   ]
  },
  {
   "cell_type": "code",
   "execution_count": 10,
   "id": "9a3aaaf8-7937-4381-8a0d-ac111d3b6e4c",
   "metadata": {},
   "outputs": [
    {
     "name": "stdin",
     "output_type": "stream",
     "text": [
      "Enter your password:  Reborn1234$\n"
     ]
    },
    {
     "name": "stdout",
     "output_type": "stream",
     "text": [
      "Password is valid\n"
     ]
    }
   ],
   "source": [
    "passw = input(\"Enter your password: \")\n",
    "\n",
    "a = len(passw)\n",
    "b = sum(c.isupper() for c in passw)\n",
    "c = sum(c.islower() for c in passw)\n",
    "d = sum(c.isdigit() for c in passw)\n",
    "\n",
    "if a >= 8 and b >= 1 and c >= 1 and d >= 1:\n",
    "    print(\"Password is valid\")\n",
    "else:\n",
    "    print(\"Password is not valid\")"
   ]
  },
  {
   "cell_type": "code",
   "execution_count": null,
   "id": "3677bf5a-6a4b-4420-86a5-eca4191ef346",
   "metadata": {},
   "outputs": [],
   "source": []
  }
 ],
 "metadata": {
  "kernelspec": {
   "display_name": "Python 3 (ipykernel)",
   "language": "python",
   "name": "python3"
  },
  "language_info": {
   "codemirror_mode": {
    "name": "ipython",
    "version": 3
   },
   "file_extension": ".py",
   "mimetype": "text/x-python",
   "name": "python",
   "nbconvert_exporter": "python",
   "pygments_lexer": "ipython3",
   "version": "3.13.5"
  }
 },
 "nbformat": 4,
 "nbformat_minor": 5
}
