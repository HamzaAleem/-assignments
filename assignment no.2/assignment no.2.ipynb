{
 "cells": [
  {
   "cell_type": "code",
   "execution_count": null,
   "id": "02e5f27c-159f-4777-8112-e6be7391aab6",
   "metadata": {},
   "outputs": [],
   "source": []
  }
 ],
 "metadata": {
  "kernelspec": {
   "display_name": "",
   "name": ""
  },
  "language_info": {
   "name": ""
  }
 },
 "nbformat": 4,
 "nbformat_minor": 5
}
