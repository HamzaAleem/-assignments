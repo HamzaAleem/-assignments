{
 "cells": [
  {
   "cell_type": "markdown",
   "id": "60f9a7c7-7266-4ded-876b-d6af8e987123",
   "metadata": {},
   "source": [
    "1. Write a program that print number from 1 to 10 using for loop"
   ]
  },
  {
   "cell_type": "code",
   "execution_count": 3,
   "id": "192fa6d5-0003-49c9-b973-5e1905a1d714",
   "metadata": {},
   "outputs": [
    {
     "name": "stdout",
     "output_type": "stream",
     "text": [
      "1\n",
      "2\n",
      "3\n",
      "4\n",
      "5\n",
      "6\n",
      "7\n",
      "8\n",
      "9\n",
      "10\n"
     ]
    }
   ],
   "source": [
    "n=10\n",
    "for i in range(n):\n",
    "    print(i+1)\n",
    "    "
   ]
  },
  {
   "cell_type": "markdown",
   "id": "11d85510-6837-484c-a9db-dabe9288c637",
   "metadata": {},
   "source": [
    "2. Write a python program that prints number from 20 to 1 using while loop"
   ]
  },
  {
   "cell_type": "code",
   "execution_count": 20,
   "id": "3cba6471-46f1-47e2-b52f-c9ccb922deb2",
   "metadata": {},
   "outputs": [
    {
     "name": "stdout",
     "output_type": "stream",
     "text": [
      "19\n",
      "18\n",
      "17\n",
      "16\n",
      "15\n",
      "14\n",
      "13\n",
      "12\n",
      "11\n",
      "10\n",
      "9\n",
      "8\n",
      "7\n",
      "6\n",
      "5\n",
      "4\n",
      "3\n",
      "2\n",
      "1\n",
      "0\n"
     ]
    }
   ],
   "source": [
    "n=20\n",
    "while (n>0):\n",
    "    n=n-1\n",
    "    print(n)"
   ]
  },
  {
   "cell_type": "markdown",
   "id": "5ed10b02-e77d-460e-9235-df8563320d31",
   "metadata": {},
   "source": [
    "3. Write a program to print even numbers from 1 to 10 "
   ]
  },
  {
   "cell_type": "code",
   "execution_count": 21,
   "id": "5fcd499e-5ee1-4539-b561-8b697f793a88",
   "metadata": {},
   "outputs": [
    {
     "name": "stdout",
     "output_type": "stream",
     "text": [
      "0\n",
      "2\n",
      "4\n",
      "6\n",
      "8\n"
     ]
    }
   ],
   "source": [
    "for i in range(10):\n",
    "    if i%2==0:\n",
    "        print(i)"
   ]
  },
  {
   "cell_type": "markdown",
   "id": "3f364e58-17ab-41bc-b997-93b6a7c152bf",
   "metadata": {},
   "source": [
    "4. Write a progra that prompts the user to enter a number n, and prints all the number from 1 to n"
   ]
  },
  {
   "cell_type": "code",
   "execution_count": 42,
   "id": "7db37250-0160-41bc-b88b-28a43bfc439a",
   "metadata": {},
   "outputs": [
    {
     "name": "stdin",
     "output_type": "stream",
     "text": [
      "enter a number: 4\n"
     ]
    },
    {
     "name": "stdout",
     "output_type": "stream",
     "text": [
      "1\n",
      "2\n",
      "3\n",
      "4\n"
     ]
    }
   ],
   "source": [
    "n = int(input(\"enter a number:\"))\n",
    "for i in range(n):\n",
    "    print(i+1)"
   ]
  },
  {
   "cell_type": "markdown",
   "id": "cce703a6-9337-4746-a319-dca0fb2e727a",
   "metadata": {},
   "source": [
    "5. Write a progra that prompts the user to enter a number n, and prints all the odd number from 1 to n"
   ]
  },
  {
   "cell_type": "code",
   "execution_count": 41,
   "id": "67005f5b-72d1-4517-a40d-34808ac56aa2",
   "metadata": {},
   "outputs": [
    {
     "name": "stdin",
     "output_type": "stream",
     "text": [
      "enter a number: 3\n"
     ]
    },
    {
     "name": "stdout",
     "output_type": "stream",
     "text": [
      " the number 1 is odd\n"
     ]
    }
   ],
   "source": [
    "n= int(input(\"enter a number:\"))\n",
    "for i in range(n):\n",
    "    if i%2!=0:\n",
    "        print(f\" the number {i} is odd\")"
   ]
  },
  {
   "cell_type": "markdown",
   "id": "4c47d8ac-c935-4793-865b-31291f966d8b",
   "metadata": {},
   "source": [
    "6. Write a program that prints \"Happy birthday\" five times"
   ]
  },
  {
   "cell_type": "code",
   "execution_count": 24,
   "id": "66cc4482-da79-4728-b3df-69a93d72b525",
   "metadata": {
    "scrolled": true
   },
   "outputs": [
    {
     "name": "stdout",
     "output_type": "stream",
     "text": [
      "Happy Birthday\n",
      "Happy Birthday\n",
      "Happy Birthday\n",
      "Happy Birthday\n",
      "Happy Birthday\n"
     ]
    }
   ],
   "source": [
    "for i in range(5):\n",
    "    print(\"Happy Birthday\")"
   ]
  },
  {
   "cell_type": "markdown",
   "id": "785e2388-0e3e-4e84-bc1a-ca7de2512b34",
   "metadata": {},
   "source": [
    "7. Write a program that takes as input from user and generates the first n tern series formed by squarring the natural numbers"
   ]
  },
  {
   "cell_type": "code",
   "execution_count": 31,
   "id": "6727b70d-5023-47c9-8b65-8893c828cfc2",
   "metadata": {},
   "outputs": [
    {
     "name": "stdin",
     "output_type": "stream",
     "text": [
      "enter a number for series: 5\n"
     ]
    },
    {
     "name": "stdout",
     "output_type": "stream",
     "text": [
      "1 4 9 16 25 "
     ]
    }
   ],
   "source": [
    "n = int(input(\"enter a number for series:\"))\n",
    "for i in range(1,n+1):\n",
    "    print((i**2), end = \" \")"
   ]
  },
  {
   "cell_type": "markdown",
   "id": "c8a4195a-33e9-4973-b2d0-f62e4e67c9d1",
   "metadata": {},
   "source": [
    "8. Write a program that prompts an input from user and prints its multiplication table of it."
   ]
  },
  {
   "cell_type": "code",
   "execution_count": 40,
   "id": "7102380d-e5b6-47b6-8491-b83cf87795aa",
   "metadata": {},
   "outputs": [
    {
     "name": "stdin",
     "output_type": "stream",
     "text": [
      "enter a number for table: 7\n",
      "enter a number till the table you want: 12\n"
     ]
    },
    {
     "name": "stdout",
     "output_type": "stream",
     "text": [
      "7 x 1 = 7\n",
      "7 x 2 = 14\n",
      "7 x 3 = 21\n",
      "7 x 4 = 28\n",
      "7 x 5 = 35\n",
      "7 x 6 = 42\n",
      "7 x 7 = 49\n",
      "7 x 8 = 56\n",
      "7 x 9 = 63\n",
      "7 x 10 = 70\n",
      "7 x 11 = 77\n",
      "7 x 12 = 84\n"
     ]
    }
   ],
   "source": [
    "n = int(input(\"enter a number for table:\"))\n",
    "e = int(input(\"enter a number till the table you want:\"))\n",
    "for i in range(e):\n",
    "    result = n*(i+1)\n",
    "    print(f\"{n} x {i+1} = {result}\")"
   ]
  },
  {
   "cell_type": "markdown",
   "id": "74796dc8-5069-4265-841e-5814a3217ce6",
   "metadata": {},
   "source": [
    "9. Write a program to print first 8 terms of an arithmetic progression starting with 3 and having a common difference of 4 "
   ]
  },
  {
   "cell_type": "code",
   "execution_count": 49,
   "id": "e91e0e21-090d-4fde-b2c0-e1a72f37c8d7",
   "metadata": {},
   "outputs": [
    {
     "name": "stdout",
     "output_type": "stream",
     "text": [
      "3 7 11 15 19 23 27 31 "
     ]
    }
   ],
   "source": [
    "n=3\n",
    "for i in range(1, 9):\n",
    "    print(n, end = \" \")\n",
    "    n=n+4\n",
    "    "
   ]
  },
  {
   "cell_type": "markdown",
   "id": "774aed59-b1fc-4f46-962e-ebfdc5f04881",
   "metadata": {},
   "source": [
    "10. Write a python program that prints the first 6 term of a geometric expression sequence starting with 2 and having a common ration of 3"
   ]
  },
  {
   "cell_type": "code",
   "execution_count": 52,
   "id": "850165f5-7467-4afc-9f3d-efa3242c95ff",
   "metadata": {},
   "outputs": [
    {
     "name": "stdout",
     "output_type": "stream",
     "text": [
      "2 6 18 54 162 486 "
     ]
    }
   ],
   "source": [
    "n=2\n",
    "for i in range(1, 7):\n",
    "    print(n, end = \" \")\n",
    "    n=n*3\n",
    "    "
   ]
  },
  {
   "cell_type": "markdown",
   "id": "920591fd-df0a-40d9-a231-9947aaa4aca7",
   "metadata": {},
   "source": [
    "11. Write a program that ask the user for a postive integer value.The program should calculate the sum of all integers from 1 up to the number entered. For example, if the user enters 20, loop will find the sum of 1,2,3,4,...20"
   ]
  },
  {
   "cell_type": "code",
   "execution_count": 58,
   "id": "b85b9990-34cf-4339-889c-ecfc104ffcf5",
   "metadata": {},
   "outputs": [
    {
     "name": "stdin",
     "output_type": "stream",
     "text": [
      "enter a number: 5\n"
     ]
    },
    {
     "name": "stdout",
     "output_type": "stream",
     "text": [
      "15\n"
     ]
    }
   ],
   "source": [
    "n= int(input(\"enter a number:\"))\n",
    "if n>=0:\n",
    "    for i in range(n):\n",
    "        n=i+(n)\n",
    "    print(n)\n",
    "else:\n",
    "    print(\"Invalid number\")\n",
    "    "
   ]
  },
  {
   "cell_type": "markdown",
   "id": "545a3dda-c809-42bd-801a-ca5a7b64a72e",
   "metadata": {},
   "source": [
    "12. Write a program that takes a positive integer N as input and calculates the sum of reciprocals of all numbers from 1 to N.The program should display the final sum."
   ]
  },
  {
   "cell_type": "code",
   "execution_count": 66,
   "id": "c320d971-3ad9-40e7-9bb5-8b3ad7497ea6",
   "metadata": {},
   "outputs": [
    {
     "name": "stdin",
     "output_type": "stream",
     "text": [
      "enter a number: 5\n"
     ]
    },
    {
     "ename": "ZeroDivisionError",
     "evalue": "division by zero",
     "output_type": "error",
     "traceback": [
      "\u001b[1;31m---------------------------------------------------------------------------\u001b[0m",
      "\u001b[1;31mZeroDivisionError\u001b[0m                         Traceback (most recent call last)",
      "Cell \u001b[1;32mIn[66], line 5\u001b[0m\n\u001b[0;32m      3\u001b[0m \u001b[38;5;28;01mif\u001b[39;00m n\u001b[38;5;241m>\u001b[39m\u001b[38;5;241m0\u001b[39m:\n\u001b[0;32m      4\u001b[0m     \u001b[38;5;28;01mfor\u001b[39;00m i \u001b[38;5;129;01min\u001b[39;00m \u001b[38;5;28mrange\u001b[39m(n):\n\u001b[1;32m----> 5\u001b[0m         sum1\u001b[38;5;241m=\u001b[39msum1 \u001b[38;5;241m+\u001b[39m (\u001b[38;5;241m1\u001b[39m\u001b[38;5;241m/\u001b[39mi)\n\u001b[0;32m      6\u001b[0m     \u001b[38;5;28mprint\u001b[39m(\u001b[38;5;124mf\u001b[39m\u001b[38;5;124m\"\u001b[39m\u001b[38;5;124mthe sum of reciprocal of 1 to \u001b[39m\u001b[38;5;132;01m{\u001b[39;00mn\u001b[38;5;132;01m}\u001b[39;00m\u001b[38;5;124m is: \u001b[39m\u001b[38;5;132;01m{\u001b[39;00msum1\u001b[38;5;132;01m}\u001b[39;00m\u001b[38;5;124m\"\u001b[39m)\n\u001b[0;32m      7\u001b[0m \u001b[38;5;28;01melse\u001b[39;00m:\n",
      "\u001b[1;31mZeroDivisionError\u001b[0m: division by zero"
     ]
    }
   ],
   "source": [
    "N = int(input(\"enter a number:\"))\n",
    "sum1 = int(0)\n",
    "if n>0:\n",
    "    for i in range(n):\n",
    "        sum1=sum1 + (1/i)\n",
    "    print(f\"the sum of reciprocal of 1 to {n} is: {sum1}\")\n",
    "else:\n",
    "    print(\"invalid number\")"
   ]
  },
  {
   "cell_type": "markdown",
   "id": "5cabf979-3892-4e5c-9a10-b73d60ac5a3f",
   "metadata": {},
   "source": [
    "13. Write a program that prompts a user for input a number and repeats the process 5 times. the program should accumulate the numbers entered and then display the final running total."
   ]
  },
  {
   "cell_type": "code",
   "execution_count": 73,
   "id": "0a76c6ed-2678-4816-80f1-caed3383d81b",
   "metadata": {},
   "outputs": [
    {
     "name": "stdin",
     "output_type": "stream",
     "text": [
      "enter a number: 5\n",
      "enter a number: 5\n",
      "enter a number: 5\n",
      "enter a number: 5\n",
      "enter a number: 5\n"
     ]
    },
    {
     "name": "stdout",
     "output_type": "stream",
     "text": [
      " the running total is 30\n"
     ]
    }
   ],
   "source": [
    "n=0\n",
    "for i in range (5):\n",
    "    n = int(input(\"enter a number:\"))\n",
    "    sum1=sum1+n\n",
    "print(f\" the running total is {sum1}\")\n",
    "    "
   ]
  },
  {
   "cell_type": "markdown",
   "id": "a847aaa5-32f1-4016-b0e4-277dca15bae6",
   "metadata": {},
   "source": [
    "14. Write a program that prompt a user to enter a positive integer and calculates its factorial. The factorial of a positive integer 'n' is denoted as n! and is calculated by multiplying all integers from 1 to 'n' together."
   ]
  },
  {
   "cell_type": "code",
   "execution_count": 86,
   "id": "e22688f6-f545-40e3-9705-bab807639d56",
   "metadata": {},
   "outputs": [
    {
     "name": "stdin",
     "output_type": "stream",
     "text": [
      "enter a number: 3\n"
     ]
    },
    {
     "name": "stdout",
     "output_type": "stream",
     "text": [
      "factorial of 3 is 6\n"
     ]
    }
   ],
   "source": [
    "mul=1\n",
    "n = int(input(\"enter a number:\"))\n",
    "for i in range(1,n+1):\n",
    "    \n",
    "    if n>0:\n",
    "        mul*=i\n",
    "        \n",
    "    elif n==0:\n",
    "        mul=1\n",
    "    else:\n",
    "        print(\"factorial does not exist for negative numbers\")\n",
    "print(f\"factorial of {n} is {mul}\")\n",
    "\n"
   ]
  },
  {
   "cell_type": "markdown",
   "id": "d1c2b3c1-f8ed-4536-ad63-b111a1509a19",
   "metadata": {},
   "source": [
    "15. Write a program that prompt the user to enter a base number and an exponent and then calculates the power of the base to the exponent. The program should not use the exponential operator(**) or the math.pow() function. The program should handle both positive and negative exponents."
   ]
  },
  {
   "cell_type": "code",
   "execution_count": 87,
   "id": "fefc6a67-1e26-4e19-a19e-4f73c0c71575",
   "metadata": {},
   "outputs": [
    {
     "name": "stdin",
     "output_type": "stream",
     "text": [
      "Enter the base number:  3\n",
      "Enter the exponent:  4\n"
     ]
    },
    {
     "name": "stdout",
     "output_type": "stream",
     "text": [
      "3.0 raised to the power 4 is: 81.0\n"
     ]
    }
   ],
   "source": [
    "base = float(input(\"Enter the base number: \"))\n",
    "exp = int(input(\"Enter the exponent: \"))\n",
    "\n",
    "result = 1\n",
    "\n",
    "if exp > 0:\n",
    "    for i in range(exp):\n",
    "        result *= base\n",
    "elif exp < 0:\n",
    "    for i in range(-exp):  # use positive exponent first\n",
    "        result *= base\n",
    "    result = 1 / result   # reciprocal for negative power\n",
    "else:\n",
    "    result = 1   # base^0 = 1\n",
    "\n",
    "print(f\"{base} raised to the power {exp} is: {result}\")"
   ]
  },
  {
   "cell_type": "code",
   "execution_count": null,
   "id": "a78690a0-6279-4068-9d0b-c22b56b5e13d",
   "metadata": {},
   "outputs": [],
   "source": []
  }
 ],
 "metadata": {
  "kernelspec": {
   "display_name": "Python 3 (ipykernel)",
   "language": "python",
   "name": "python3"
  },
  "language_info": {
   "codemirror_mode": {
    "name": "ipython",
    "version": 3
   },
   "file_extension": ".py",
   "mimetype": "text/x-python",
   "name": "python",
   "nbconvert_exporter": "python",
   "pygments_lexer": "ipython3",
   "version": "3.13.5"
  }
 },
 "nbformat": 4,
 "nbformat_minor": 5
}
