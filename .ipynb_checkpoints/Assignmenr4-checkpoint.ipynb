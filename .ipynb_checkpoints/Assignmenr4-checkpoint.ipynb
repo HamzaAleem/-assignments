{
 "cells": [
  {
   "cell_type": "markdown",
   "id": "b45f4daf-377b-43de-83a4-e96705b43994",
   "metadata": {},
   "source": [
    "1.Write a program that accepts a list from user and print the alternate element of list."
   ]
  },
  {
   "cell_type": "code",
   "execution_count": 2,
   "id": "a8745981-5434-40df-a7f5-b2d0877798af",
   "metadata": {},
   "outputs": [
    {
     "name": "stdin",
     "output_type": "stream",
     "text": [
      "Enter list elements separated by spaces:  apple mango banana\n"
     ]
    },
    {
     "name": "stdout",
     "output_type": "stream",
     "text": [
      "Alternate elements: ['apple', 'banana']\n"
     ]
    }
   ],
   "source": [
    "fruit = input(\"Enter list elements separated by spaces: \")\n",
    "lst = fruit.split()\n",
    "print(\"Alternate elements:\", lst[::2])"
   ]
  },
  {
   "cell_type": "markdown",
   "id": "c7d86e18-19b8-45fb-9a0e-5cad2b335ef0",
   "metadata": {},
   "source": [
    "2.Write a program that accepts a list from user. Your program should reverse the content of list and display it. Do not use reverse() method."
   ]
  },
  {
   "cell_type": "code",
   "execution_count": 3,
   "id": "fc57406a-8dd8-429c-8633-6de545b65657",
   "metadata": {},
   "outputs": [
    {
     "name": "stdin",
     "output_type": "stream",
     "text": [
      "Enter list elements separated by spaces:  apple banana mangoo\n"
     ]
    },
    {
     "name": "stdout",
     "output_type": "stream",
     "text": [
      "Reversed: ['mangoo', 'banana', 'apple']\n"
     ]
    }
   ],
   "source": [
    "apple = input(\"Enter list elements separated by spaces: \")\n",
    "lst = apple.split()\n",
    "\n",
    "\n",
    "i, j = 0, len(lst) - 1\n",
    "while i < j:\n",
    "    \n",
    "    lst[i], lst[j] = lst[j], lst[i]\n",
    "    i += 1\n",
    "    j -= 1\n",
    "\n",
    "print(\"Reversed:\", lst)"
   ]
  },
  {
   "cell_type": "markdown",
   "id": "793760a6-e462-4a9b-bfd5-bb08b07d82a9",
   "metadata": {},
   "source": [
    "3.Find and display the largest number of a list without using built-in function max(). Your program should ask the user to input values in list from keyboard."
   ]
  },
  {
   "cell_type": "code",
   "execution_count": 4,
   "id": "7b38da35-2b0f-4757-9165-62122f786162",
   "metadata": {},
   "outputs": [
    {
     "name": "stdin",
     "output_type": "stream",
     "text": [
      "Enter numbers separated by spaces:  1 3 5 7 9 11 13 17\n"
     ]
    },
    {
     "name": "stdout",
     "output_type": "stream",
     "text": [
      "Largest: 17\n"
     ]
    }
   ],
   "source": [
    "raw = input(\"Enter numbers separated by spaces: \")\n",
    "nums = [float(x) for x in raw.split()]\n",
    "\n",
    "\n",
    "\n",
    "\n",
    "if not nums:\n",
    "    print(\"List is empty.\")\n",
    "else:\n",
    "    largest = nums[0]\n",
    "for x in nums[1:]:\n",
    "    if x > largest:\n",
    "        largest = x\n",
    "print(\"Largest:\", int(largest))\n"
   ]
  },
  {
   "cell_type": "markdown",
   "id": "c5fca5fc-0fd3-4f56-bc16-2960d4d28533",
   "metadata": {},
   "source": [
    "4.Write a program that rotates the element of a list so that the element at the first index moves to the second index, the element in the second index moves to the third index, etc., and the element in the last index moves to the first index."
   ]
  },
  {
   "cell_type": "code",
   "execution_count": 5,
   "id": "6edf502d-404c-47d9-89da-a0fa30acf2aa",
   "metadata": {},
   "outputs": [
    {
     "name": "stdin",
     "output_type": "stream",
     "text": [
      "Enter list elements separated by spaces:  aasjfnss I J\n"
     ]
    },
    {
     "name": "stdout",
     "output_type": "stream",
     "text": [
      "Rotated: ['J', 'I', 'I']\n",
      "Rotated: ['J', 'J', 'I']\n"
     ]
    }
   ],
   "source": [
    "dim = input(\"Enter list elements separated by spaces: \")\n",
    "lst = dim.split()\n",
    "\n",
    "\n",
    "if lst:\n",
    "    last = lst[-1]\n",
    "for i in range(len(lst) - 1, 0, -1):\n",
    "    lst[i] = lst[i - 1]\n",
    "    lst[0] = last\n",
    "    print(\"Rotated:\", lst)"
   ]
  },
  {
   "cell_type": "markdown",
   "id": "683a30ea-81de-4656-8735-a807e3a8ef92",
   "metadata": {},
   "source": [
    "5. Write a program that input a string and ask user to delete a given word from a string."
   ]
  },
  {
   "cell_type": "code",
   "execution_count": 6,
   "id": "49c51ec6-f3c9-40bb-b5e4-36e6216d41f4",
   "metadata": {},
   "outputs": [
    {
     "name": "stdin",
     "output_type": "stream",
     "text": [
      "Enter a sentence:  I am not a jolly boy\n",
      "Enter the word to delete:  not\n"
     ]
    },
    {
     "name": "stdout",
     "output_type": "stream",
     "text": [
      "Result: I am a jolly boy\n"
     ]
    }
   ],
   "source": [
    "sentence = input(\"Enter a sentence: \")\n",
    "word = input(\"Enter the word to delete: \")\n",
    "\n",
    "\n",
    "words = sentence.split()\n",
    "result = [w for w in words if w.lower() != word.lower()]\n",
    "\n",
    "\n",
    "print(\"Result:\", \" \".join(result))"
   ]
  },
  {
   "cell_type": "markdown",
   "id": "a00db52a-9208-4d42-9e76-ed7b8c9d349d",
   "metadata": {},
   "source": [
    "6.Write a program that reads a string from the user containing a date in the form mm/dd/yyyy. It should print the date in the form March 12, 2021"
   ]
  },
  {
   "cell_type": "code",
   "execution_count": 7,
   "id": "df81fe60-9ff3-456c-a6fd-e00fb0b6c368",
   "metadata": {},
   "outputs": [
    {
     "name": "stdin",
     "output_type": "stream",
     "text": [
      "Enter a date (mm/dd/yyyy):  01/04/1997\n"
     ]
    },
    {
     "name": "stdout",
     "output_type": "stream",
     "text": [
      "January 4, 1997\n"
     ]
    }
   ],
   "source": [
    "months = [\"January\", \"February\", \"March\", \"April\", \"May\", \"June\",\n",
    "\"July\", \"August\", \"September\", \"October\", \"November\", \"December\"]\n",
    "\n",
    "\n",
    "s = input(\"Enter a date (mm/dd/yyyy): \")\n",
    "mm, dd, yyyy = s.split(\"/\")\n",
    "print(f\"{months[int(mm)-1]} {int(dd)}, {yyyy}\")"
   ]
  },
  {
   "cell_type": "markdown",
   "id": "fbc1d3aa-bf40-444b-ade9-9cd500cc5060",
   "metadata": {},
   "source": [
    "7.Write a program with a function that accepts a string from keyboard and create a new string after converting character of each word capitalized. For instance, if the sentence is \"stop and smell the roses.\" the output should be \"Stop And Smell The Roses\""
   ]
  },
  {
   "cell_type": "code",
   "execution_count": 9,
   "id": "a1523b67-7b74-40d8-ae19-2b61f6d504d5",
   "metadata": {},
   "outputs": [
    {
     "name": "stdin",
     "output_type": "stream",
     "text": [
      "Enter a sentence:  shopkeeper\n"
     ]
    },
    {
     "name": "stdout",
     "output_type": "stream",
     "text": [
      "Shopkeeper\n"
     ]
    }
   ],
   "source": [
    "text = input(\"Enter a sentence: \")\n",
    "print(text.title())"
   ]
  },
  {
   "cell_type": "markdown",
   "id": "7a4cb407-03c5-46fa-96aa-20c2abf2c9db",
   "metadata": {},
   "source": [
    "8.Find the sum of each row of matrix of size m x n. For example for the following matrix output will be like this : Sum of row 1 = 32 Sum of row 2 = 31 Sum of row 3 = 63"
   ]
  },
  {
   "cell_type": "code",
   "execution_count": 10,
   "id": "0ed749fd-7500-4c89-95a4-bf3d72ec0fc5",
   "metadata": {},
   "outputs": [
    {
     "name": "stdin",
     "output_type": "stream",
     "text": [
      "Enter number of rows (m):  4\n",
      "Enter number of columns (n):  4\n",
      "Enter row 1:  123\n",
      "Enter row 2:  123\n",
      "Enter row 3:  123\n",
      "Enter row 4:  123\n"
     ]
    },
    {
     "name": "stdout",
     "output_type": "stream",
     "text": [
      "Sum of row 1 = 123.0\n",
      "Sum of row 2 = 123.0\n",
      "Sum of row 3 = 123.0\n",
      "Sum of row 4 = 123.0\n"
     ]
    }
   ],
   "source": [
    "m = int(input(\"Enter number of rows (m): \"))\n",
    "n = int(input(\"Enter number of columns (n): \"))\n",
    "\n",
    "\n",
    "matrix = []\n",
    "for i in range(m):\n",
    "    row = [float(x) for x in input(f\"Enter row {i+1}: \").split()]\n",
    "    matrix.append(row)\n",
    "\n",
    "\n",
    "for i, row in enumerate(matrix, start=1):\n",
    "    print(f\"Sum of row {i} = {sum(row)}\")"
   ]
  },
  {
   "cell_type": "markdown",
   "id": "e5566eb2-4e60-4533-86ed-0bbfecb772f3",
   "metadata": {},
   "source": [
    "9.Write a program to add two matrices of size n x m."
   ]
  },
  {
   "cell_type": "code",
   "execution_count": 11,
   "id": "598c83e8-9f9b-439d-8e80-ce8d908d27c4",
   "metadata": {},
   "outputs": [
    {
     "name": "stdin",
     "output_type": "stream",
     "text": [
      "Enter number of rows (n):  3\n",
      "Enter number of columns (m):  2\n"
     ]
    },
    {
     "name": "stdout",
     "output_type": "stream",
     "text": [
      "Enter Matrix A:\n"
     ]
    },
    {
     "name": "stdin",
     "output_type": "stream",
     "text": [
      " 1 2 3\n",
      " 4 5 6\n",
      " 7 8 9\n"
     ]
    },
    {
     "name": "stdout",
     "output_type": "stream",
     "text": [
      "Enter Matrix B:\n"
     ]
    },
    {
     "name": "stdin",
     "output_type": "stream",
     "text": [
      " 2 3 4\n",
      " 3 4 5\n",
      " 4 5 6 \n"
     ]
    },
    {
     "name": "stdout",
     "output_type": "stream",
     "text": [
      "A + B =\n",
      "3.0 5.0\n",
      "7.0 9.0\n",
      "11.0 13.0\n"
     ]
    }
   ],
   "source": [
    "n = int(input(\"Enter number of rows (n): \"))\n",
    "m = int(input(\"Enter number of columns (m): \"))\n",
    "\n",
    "\n",
    "print(\"Enter Matrix A:\")\n",
    "A = [list(map(float, input().split())) for _ in range(n)]\n",
    "print(\"Enter Matrix B:\")\n",
    "B = [list(map(float, input().split())) for _ in range(n)]\n",
    "\n",
    "\n",
    "C = [[A[i][j] + B[i][j] for j in range(m)] for i in range(n)]\n",
    "\n",
    "\n",
    "print(\"A + B =\")\n",
    "for row in C:\n",
    "    print(*row)\n"
   ]
  },
  {
   "cell_type": "markdown",
   "id": "f39afff0-9479-43b4-8047-7e7bc310a1fa",
   "metadata": {},
   "source": [
    "10.Write a program to multiply two matrices"
   ]
  },
  {
   "cell_type": "code",
   "execution_count": 13,
   "id": "3fab90f3-5144-4be2-b460-f59f5a73e909",
   "metadata": {},
   "outputs": [
    {
     "name": "stdin",
     "output_type": "stream",
     "text": [
      "Enter rows and cols of A:  2 3\n",
      " 3 4\n",
      " 4 5\n",
      "Enter rows and cols of B:  1 2\n",
      " 2 3\n"
     ]
    },
    {
     "name": "stdout",
     "output_type": "stream",
     "text": [
      "Cannot multiply: columns of A must equal rows of B\n",
      "3.0 5.0\n",
      "7.0 9.0\n",
      "11.0 13.0\n"
     ]
    }
   ],
   "source": [
    "r1, c1 = map(int, input(\"Enter rows and cols of A: \").split())\n",
    "A = [list(map(float, input().split())) for _ in range(r1)]\n",
    "\n",
    "\n",
    "r2, c2 = map(int, input(\"Enter rows and cols of B: \").split())\n",
    "B = [list(map(float, input().split())) for _ in range(r2)]\n",
    "\n",
    "\n",
    "if c1 != r2:\n",
    "    print(\"Cannot multiply: columns of A must equal rows of B\")\n",
    "else:\n",
    "    C = [[sum(A[i][k] * B[k][j] for k in range(c1)) for j in range(c2)] for i in range(r1)]\n",
    "    print(\"A × B =\")\n",
    "for row in C:\n",
    "    print(*row)"
   ]
  },
  {
   "cell_type": "code",
   "execution_count": null,
   "id": "864d289a-037a-4dbd-aea0-24872c394178",
   "metadata": {},
   "outputs": [],
   "source": []
  }
 ],
 "metadata": {
  "kernelspec": {
   "display_name": "Python 3 (ipykernel)",
   "language": "python",
   "name": "python3"
  },
  "language_info": {
   "codemirror_mode": {
    "name": "ipython",
    "version": 3
   },
   "file_extension": ".py",
   "mimetype": "text/x-python",
   "name": "python",
   "nbconvert_exporter": "python",
   "pygments_lexer": "ipython3",
   "version": "3.13.5"
  }
 },
 "nbformat": 4,
 "nbformat_minor": 5
}
