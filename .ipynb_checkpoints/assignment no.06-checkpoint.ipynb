{
 "cells": [
  {
   "cell_type": "markdown",
   "id": "4cab0335-4e4e-43a3-8b8b-1b9811956247",
   "metadata": {},
   "source": [
    "1, Write a Python program to create a class representing a Circle. Include methods to calculate its area and perimeter."
   ]
  },
  {
   "cell_type": "code",
   "execution_count": 1,
   "id": "3462690b-2387-45eb-9475-276b46cff387",
   "metadata": {},
   "outputs": [
    {
     "name": "stdout",
     "output_type": "stream",
     "text": [
      "Note: you may need to restart the kernel to use updated packages.\n"
     ]
    },
    {
     "name": "stderr",
     "output_type": "stream",
     "text": [
      "ERROR: Could not find a version that satisfies the requirement math (from versions: none)\n",
      "ERROR: No matching distribution found for math\n"
     ]
    }
   ],
   "source": [
    "pip install math"
   ]
  },
  {
   "cell_type": "code",
   "execution_count": 5,
   "id": "a602d96a-fc78-4b70-9245-7d2d1f1724f3",
   "metadata": {},
   "outputs": [
    {
     "name": "stdin",
     "output_type": "stream",
     "text": [
      "enter the value for circle radius: 4\n"
     ]
    },
    {
     "name": "stdout",
     "output_type": "stream",
     "text": [
      "the area of circle is 50.26548245743669\n",
      "the perimeter of circle is 25.132741228718345\n"
     ]
    }
   ],
   "source": [
    "import math\n",
    "\n",
    "class circle():\n",
    "    def __init__(self,radius):\n",
    "        self.radius = radius\n",
    "\n",
    "\n",
    "    def area(self):\n",
    "        return math.pi * self.radius **2\n",
    "\n",
    "    def perimeter(self):\n",
    "        return 2 * math.pi * self.radius\n",
    "\n",
    "r =  float(input(\"enter the value for circle radius:\"))\n",
    "\n",
    "circle1 =  circle(r)\n",
    "\n",
    "print(f\"the area of circle is {circle1.area()}\")\n",
    "print(f\"the perimeter of circle is {circle1.perimeter()}\")\n",
    "    "
   ]
  },
  {
   "cell_type": "markdown",
   "id": "6eaa7822-05b9-4e69-9c8d-c9d5fba3b7e0",
   "metadata": {},
   "source": [
    "2. Write a Python program to create a person class. Include attributes like name, country and date of birth. Implement a method to determine the person's age."
   ]
  },
  {
   "cell_type": "code",
   "execution_count": 9,
   "id": "0f8131b0-e303-47f2-abbf-e6241f9e5e53",
   "metadata": {},
   "outputs": [
    {
     "name": "stdout",
     "output_type": "stream",
     "text": [
      "Collecting datetime\n",
      "  Downloading DateTime-5.5-py3-none-any.whl.metadata (33 kB)\n",
      "Requirement already satisfied: zope.interface in c:\\users\\pmls\\anaconda\\lib\\site-packages (from datetime) (7.1.1)\n",
      "Requirement already satisfied: pytz in c:\\users\\pmls\\anaconda\\lib\\site-packages (from datetime) (2024.1)\n",
      "Requirement already satisfied: setuptools in c:\\users\\pmls\\anaconda\\lib\\site-packages (from zope.interface->datetime) (72.1.0)\n",
      "Downloading DateTime-5.5-py3-none-any.whl (52 kB)\n",
      "Installing collected packages: datetime\n",
      "Successfully installed datetime-5.5\n",
      "Note: you may need to restart the kernel to use updated packages.\n"
     ]
    }
   ],
   "source": [
    "pip install datetime"
   ]
  },
  {
   "cell_type": "code",
   "execution_count": 18,
   "id": "386688cb-2495-43ae-ba35-25ea9a29ee0b",
   "metadata": {},
   "outputs": [
    {
     "name": "stdin",
     "output_type": "stream",
     "text": [
      "enter your name: Hamza\n",
      "enter your country: pakistan\n",
      "enter date of birth (YYYY-MM-DD): 1997-04-01\n"
     ]
    },
    {
     "name": "stdout",
     "output_type": "stream",
     "text": [
      "your age is 28\n"
     ]
    }
   ],
   "source": [
    "from datetime import date, datetime\n",
    "\n",
    "class person():\n",
    "    def __init__(self,name,country,dateofbirth):\n",
    "        self.name = name\n",
    "        self.country = country\n",
    "        self.dateofbirth = datetime.strptime(dateofbirth,\"%Y-%m-%d\").date()\n",
    "\n",
    "    def calc_age(self):\n",
    "        today = date.today()\n",
    "        age = today.year-self.dateofbirth.year\n",
    "        if (today.month,today.day)<(self.dateofbirth.month,self.dateofbirth.day):\n",
    "            \n",
    "            age=-1\n",
    "        return age\n",
    "\n",
    "        ## print(f\"age:{self.age()} years\")\n",
    "\n",
    "name = input(\"enter your name:\")\n",
    "country = input(\"enter your country:\")\n",
    "dateofbirth = input(\"enter date of birth (YYYY-MM-DD):\")\n",
    "\n",
    "person1=person(name, country, dateofbirth)\n",
    "\n",
    "print(f\"your age is {person1.calc_age()}\")\n",
    "\n",
    "\n",
    "        "
   ]
  },
  {
   "cell_type": "code",
   "execution_count": 22,
   "id": "cd9b6146-0ea4-4178-a0b6-16fbfe856949",
   "metadata": {},
   "outputs": [
    {
     "name": "stdout",
     "output_type": "stream",
     "text": [
      "0000000\n"
     ]
    },
    {
     "name": "stdin",
     "output_type": "stream",
     "text": [
      "enter first number 3\n",
      "enter second number 4\n",
      "enter which operation you want to perform: *\n"
     ]
    },
    {
     "name": "stdout",
     "output_type": "stream",
     "text": [
      "result: 12.0\n"
     ]
    }
   ],
   "source": [
    "class calculator():\n",
    "    def __init__(self):\n",
    "        print(\"0000000\")\n",
    "\n",
    "    def add(self,a,b):\n",
    "        return a+b\n",
    "\n",
    "    def sub(self,a,b):\n",
    "        return a-b\n",
    "\n",
    "    def mul(self,a,b):\n",
    "        return a*b\n",
    "\n",
    "    def div(self,a,b):\n",
    "        if b==0:\n",
    "            print(\"error: division by zero is not possible\")\n",
    "        return a/b\n",
    "\n",
    "calc=calculator()\n",
    "\n",
    "num1 = float(input(\"enter first number\"))\n",
    "num2 = float(input(\"enter second number\"))\n",
    "\n",
    "operator = input(\"enter which operation you want to perform:\")\n",
    "\n",
    "if (operator == \"+\"):\n",
    "    print(\"result:\",calc.add(num1,num2))\n",
    "elif (operator == \"-\"):\n",
    "    print(\"result:\",calc.sub(num1,num2))\n",
    "elif (operator == \"*\"):\n",
    "    print(\"result:\",calc.mul(num1,num2))\n",
    "elif (operator == \"/\"):\n",
    "    print(\"result:\",calc.div(num1,num2))\n",
    "else:\n",
    "    print(\"invalid operator\")\n",
    "\n",
    "        \n",
    "    "
   ]
  },
  {
   "cell_type": "code",
   "execution_count": null,
   "id": "9fdcf222-51a5-4a6e-bf3e-544d22b992c7",
   "metadata": {},
   "outputs": [],
   "source": []
  }
 ],
 "metadata": {
  "kernelspec": {
   "display_name": "Python 3 (ipykernel)",
   "language": "python",
   "name": "python3"
  },
  "language_info": {
   "codemirror_mode": {
    "name": "ipython",
    "version": 3
   },
   "file_extension": ".py",
   "mimetype": "text/x-python",
   "name": "python",
   "nbconvert_exporter": "python",
   "pygments_lexer": "ipython3",
   "version": "3.13.5"
  }
 },
 "nbformat": 4,
 "nbformat_minor": 5
}
