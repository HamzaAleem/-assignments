{
 "cells": [
  {
   "cell_type": "markdown",
   "id": "68a3ab69-0d32-47f2-98ae-f1b08d2382d3",
   "metadata": {},
   "source": [
    "### Part-1 Python Basic"
   ]
  },
  {
   "cell_type": "markdown",
   "id": "177d9d30-6899-4d21-a186-9fdb2af5c591",
   "metadata": {},
   "source": [
    "1.Print Your Name with your Father name and Date of birth using suitable escape sequence charactor"
   ]
  },
  {
   "cell_type": "code",
   "execution_count": 2,
   "id": "840ede26-41b9-4b5c-acfb-cc1ba35a40ba",
   "metadata": {},
   "outputs": [
    {
     "name": "stdout",
     "output_type": "stream",
     "text": [
      "name:\tHamza Aleem\n",
      "father_name:\tAleem uddin\n",
      "date_of_birth:\t04.01.1997\n"
     ]
    }
   ],
   "source": [
    " Name = \"Hamza Aleem\"\n",
    "father_name = \"Aleem uddin\"\n",
    "date_of_birth = \"04.01.1997\"\n",
    "print(f\"name:\\t{Name}\\nfather_name:\\t{father_name}\\ndate_of_birth:\\t{date_of_birth}\")"
   ]
  },
  {
   "cell_type": "markdown",
   "id": "81457d23-c3da-4750-92aa-d17de95657af",
   "metadata": {},
   "source": [
    "2.Write your small bio using variables and print it using print function"
   ]
  },
  {
   "cell_type": "code",
   "execution_count": 4,
   "id": "d2dd62ef-6b38-4a50-96b4-8c2ab90709d5",
   "metadata": {},
   "outputs": [
    {
     "name": "stdout",
     "output_type": "stream",
     "text": [
      "Hey! This is Hamza Aleem son of Aleem uddin. I was born on 04.01.1997\n"
     ]
    }
   ],
   "source": [
    "print(f\"Hey! This is {Name} son of {father_name}. I was born on {date_of_birth}\")"
   ]
  },
  {
   "cell_type": "markdown",
   "id": "890ce7f7-a02b-47bd-93c3-8be6547eac8e",
   "metadata": {},
   "source": [
    "3.Write a program in which use all the operators we can use in Python"
   ]
  },
  {
   "cell_type": "code",
   "execution_count": null,
   "id": "58b2b8c6-d5a9-4a69-9f92-f8789a0be4a2",
   "metadata": {},
   "outputs": [],
   "source": [
    "x=5\n",
    "y=9\n",
    "print(x+y)\n",
    "print(x-y)\n",
    "print(x*y)\n",
    "print(x/y)\n",
    "print(x**y)\n",
    "print(x<y)\n",
    "print(x>y)\n",
    "print(y**x)\n",
    "print((x>1) and (y>1))\n",
    "print((x<1) and (y<1))\n",
    "print(not(x>1))"
   ]
  },
  {
   "cell_type": "markdown",
   "id": "ec697261-edeb-4914-929a-d898df4e5dae",
   "metadata": {},
   "source": [
    "4.Completes the following steps of small task:\n",
    "Mention Marks of English , Islamiat and Maths out of 100 in 3 different variables\n",
    "Mention Variable of Total Marks and assign 300 to it\n",
    "Calculate Percentage\n"
   ]
  },
  {
   "cell_type": "code",
   "execution_count": 9,
   "id": "2dbabad7-c6f3-4fe2-b2cb-580426ce7a92",
   "metadata": {},
   "outputs": [
    {
     "name": "stdout",
     "output_type": "stream",
     "text": [
      "the percentage is 75.66666666666667\n"
     ]
    }
   ],
   "source": [
    "English = int(77)\n",
    "Maths = int(99)\n",
    "Islamiat = int(51)\n",
    "Total = int(300)\n",
    "percentage = float(((English+Maths+Islamiat)/300)*100)\n",
    "print(f\"the percentage is {percentage}\")"
   ]
  },
  {
   "cell_type": "markdown",
   "id": "d5e74849-2fe2-4bfd-837a-eb972468a3c3",
   "metadata": {},
   "source": [
    "### Part -2 Python Basics (Conditional Statements)"
   ]
  },
  {
   "cell_type": "markdown",
   "id": "b7e3f5bc-5250-415f-a6e4-dce3ce18edf6",
   "metadata": {},
   "source": [
    "1.A company decided to give bonus of 5% to employee if his/her year of service is more than 5 years. Ask user for their salary and year of service and print the net bonus amount."
   ]
  },
  {
   "cell_type": "code",
   "execution_count": 11,
   "id": "509750c5-500d-420e-b952-8e130c300433",
   "metadata": {},
   "outputs": [
    {
     "name": "stdin",
     "output_type": "stream",
     "text": [
      "enter your salary: 3\n",
      "enter your service period in years: 4\n"
     ]
    },
    {
     "name": "stdout",
     "output_type": "stream",
     "text": [
      "you are not eligible for bonus this year\n"
     ]
    }
   ],
   "source": [
    "salary = int(input(\"enter your salary:\"))\n",
    "service =  int(input(\"enter your service period in years:\"))\n",
    "if service>5:\n",
    "    print(\"your net bonus will be:\",{salary*0.05})\n",
    "else:\n",
    "    print(\"you are not eligible for bonus this year\")"
   ]
  },
  {
   "cell_type": "markdown",
   "id": "71fdc755-4732-4faa-80ce-2e8b6e600cd8",
   "metadata": {},
   "source": [
    "2.Write a program to check whether a person is eligible for voting or not. (accept age from user) if age is greater than 17 eligible otherwise not eligible"
   ]
  },
  {
   "cell_type": "code",
   "execution_count": 15,
   "id": "048a7443-0c8b-494c-a2a8-0a25da37146f",
   "metadata": {},
   "outputs": [
    {
     "name": "stdin",
     "output_type": "stream",
     "text": [
      "enter your age: 99\n"
     ]
    },
    {
     "name": "stdout",
     "output_type": "stream",
     "text": [
      "you are eligible for voting\n"
     ]
    }
   ],
   "source": [
    "age = int(input(\"enter your age:\"))\n",
    "if age>17 and age<100:\n",
    "    print(\"you are eligible for voting\")\n",
    "elsev\n",
    "    print(\"you are not eligible for voting\")"
   ]
  },
  {
   "cell_type": "markdown",
   "id": "46d71e74-1bc6-4714-8904-1d98d5ef36ab",
   "metadata": {},
   "source": [
    "3.Write a program to check whether a number entered by user is even or odd."
   ]
  },
  {
   "cell_type": "code",
   "execution_count": 17,
   "id": "d287c92b-9c3a-4b96-a7f6-3502832c2b31",
   "metadata": {},
   "outputs": [
    {
     "name": "stdin",
     "output_type": "stream",
     "text": [
      "enter the number: 3\n"
     ]
    },
    {
     "name": "stdout",
     "output_type": "stream",
     "text": [
      "number is ODD\n"
     ]
    }
   ],
   "source": [
    "number = int(input(\"enter the number:\"))\n",
    "if number%2==0:\n",
    "    print(\"number is EVEN\")\n",
    "else:\n",
    "    print(\"number is ODD\")"
   ]
  },
  {
   "cell_type": "markdown",
   "id": "1560f4e5-645c-4f6e-920d-ec5980d3856d",
   "metadata": {},
   "source": [
    "4.Write a program to check whether a number is divisible by 7 or not. Show Answer"
   ]
  },
  {
   "cell_type": "code",
   "execution_count": 18,
   "id": "e478fe93-d0ef-48ed-ab15-f6e7d57bfb40",
   "metadata": {},
   "outputs": [
    {
     "name": "stdin",
     "output_type": "stream",
     "text": [
      "enter a number: 92090248\n"
     ]
    },
    {
     "name": "stdout",
     "output_type": "stream",
     "text": [
      "the number is not divisible by 7\n"
     ]
    }
   ],
   "source": [
    "number1=int(input(\"enter a number:\"))\n",
    "if number1%7==0:\n",
    "    print(\"the number is divisible by 7\")\n",
    "else:\n",
    "    print(\"the number is not divisible by 7\")"
   ]
  },
  {
   "cell_type": "markdown",
   "id": "17ee0acf-0e2c-4722-8b61-90af9704ec3f",
   "metadata": {},
   "source": [
    "5.Write a program to display \"Hello\" if a number entered by user is a multiple of five , otherwise print \"Bye\"."
   ]
  },
  {
   "cell_type": "code",
   "execution_count": 22,
   "id": "8a82a09b-336f-4b2c-aeb3-9d557d8760f6",
   "metadata": {},
   "outputs": [
    {
     "name": "stdin",
     "output_type": "stream",
     "text": [
      "enter a number: 347892375\n"
     ]
    },
    {
     "name": "stdout",
     "output_type": "stream",
     "text": [
      "hello\n"
     ]
    }
   ],
   "source": [
    "number2 = int(input(\"enter a number:\"))\n",
    "if number2%5==0:\n",
    "    print(\"hello\")\n",
    "else:\n",
    "    \n",
    "    print(\"bye\")"
   ]
  },
  {
   "cell_type": "markdown",
   "id": "1c71a34f-ba7c-4202-99aa-c1de94267e54",
   "metadata": {},
   "source": [
    "6.Write a program to display the last digit of a number."
   ]
  },
  {
   "cell_type": "code",
   "execution_count": 24,
   "id": "87f7be44-2105-4fb6-95ba-afec952b483a",
   "metadata": {},
   "outputs": [
    {
     "name": "stdin",
     "output_type": "stream",
     "text": [
      "enter a number 324235236\n"
     ]
    },
    {
     "name": "stdout",
     "output_type": "stream",
     "text": [
      "6\n"
     ]
    }
   ],
   "source": [
    "number3=int(input(\"enter a number\"))\n",
    "print(number3%10)"
   ]
  },
  {
   "cell_type": "markdown",
   "id": "d7158c5a-572e-482a-b745-0975697b9c70",
   "metadata": {},
   "source": [
    "7..Take values of length and breadth of a rectangle from user and print if it is square or rectangle."
   ]
  },
  {
   "cell_type": "code",
   "execution_count": 25,
   "id": "e1e576aa-3f34-49c9-bcd0-783523b50e43",
   "metadata": {},
   "outputs": [
    {
     "name": "stdin",
     "output_type": "stream",
     "text": [
      "enter a length of polygon: 55\n",
      "enter a width of polygon 55\n"
     ]
    },
    {
     "name": "stdout",
     "output_type": "stream",
     "text": [
      "the measurement are of SQUARE.\n"
     ]
    }
   ],
   "source": [
    "length=int(input(\"enter a length of polygon:\"))\n",
    "width=int(input(\"enter a width of polygon\"))\n",
    "if length == width:\n",
    "    print(\"the measurement are of SQUARE.\")\n",
    "else:\n",
    "    print(\"the measure are of RECTANGLE.\")"
   ]
  },
  {
   "cell_type": "markdown",
   "id": "6728bf52-8ea4-44d1-8dcc-b54f8cade614",
   "metadata": {},
   "source": [
    "8. Take two int values from user and print greatest among them"
   ]
  },
  {
   "cell_type": "code",
   "execution_count": 27,
   "id": "135a8497-d47f-4cce-b4ca-eb688430a1e8",
   "metadata": {},
   "outputs": [
    {
     "name": "stdin",
     "output_type": "stream",
     "text": [
      "enter a number: 555\n",
      "enter another number: 666434\n"
     ]
    },
    {
     "name": "stdout",
     "output_type": "stream",
     "text": [
      "the greater number is 666434\n"
     ]
    }
   ],
   "source": [
    "number4=int(input(\"enter a number:\"))\n",
    "number5=int(input(\"enter another number:\"))\n",
    "if number4>number5:\n",
    "    print(\"the greater number is\",number4)\n",
    "else:\n",
    "    print(\"the greater number is\",number5)"
   ]
  },
  {
   "cell_type": "markdown",
   "id": "a62d5719-233a-4965-9c53-e56bb953f151",
   "metadata": {},
   "source": [
    "9.A shop will give discount of 10% if the cost of purchased quantity is more than 1000. Ask user for quantity Suppose, one unit will cost 100. Judge and print total cost for user."
   ]
  },
  {
   "cell_type": "code",
   "execution_count": 29,
   "id": "29fba5db-9035-4991-ad16-cd89149e875a",
   "metadata": {},
   "outputs": [
    {
     "name": "stdin",
     "output_type": "stream",
     "text": [
      "enter number of items: 444\n"
     ]
    },
    {
     "name": "stdout",
     "output_type": "stream",
     "text": [
      "you'll get a discount of 10% on total purchase of rs 666000 after discount you'll pay 66600.0\n"
     ]
    }
   ],
   "source": [
    "itemcost= 1500\n",
    "items=int(input(\"enter number of items:\"))\n",
    "if (items*itemcost)>1000:\n",
    "    print(\"you'll get a discount of 10% on total purchase of rs\",items*itemcost, \"after discount you'll pay\",items*itemcost*0.10)\n",
    "else:\n",
    "    print(\"Sorry! you are not eligible for the discount\")\n"
   ]
  },
  {
   "cell_type": "markdown",
   "id": "a68357be-39cf-4679-aecb-342f5fe07d49",
   "metadata": {},
   "source": [
    "10.A school has following rules for grading system:\n",
    "\n",
    "a. Below 25 - F\n",
    "\n",
    "b. 25 to 45 - E\n",
    "\n",
    "c. 45 to 50 - D\n",
    "\n",
    "d. 50 to 60 - C\n",
    "\n",
    "e. 60 to 80 - B\n",
    "\n",
    "f. Above 80 - A\n",
    "\n",
    "Ask user to enter marks and print the corresponding grade."
   ]
  },
  {
   "cell_type": "code",
   "execution_count": 30,
   "id": "f2a81917-a815-4292-b44f-86cbd75a2f92",
   "metadata": {},
   "outputs": [
    {
     "name": "stdin",
     "output_type": "stream",
     "text": [
      "enter percentage for grading: 85\n"
     ]
    },
    {
     "name": "stdout",
     "output_type": "stream",
     "text": [
      "the grade is A\n"
     ]
    }
   ],
   "source": [
    "grade=int(input(\"enter percentage for grading:\"))\n",
    "if grade<25:\n",
    "    print(\"the student grade is F\")\n",
    "elif grade>25 and grade <45:\n",
    "    print(\"the student grade is E\")\n",
    "elif grade>45 and grade <50:\n",
    "    print(\"the grade is D\")\n",
    "elif grade>50 and grade <60:\n",
    "    print(\"the grade is C\")\n",
    "elif grade >60 and grade <80:\n",
    "    print(\"the grade is B\")\n",
    "elif grade >80:\n",
    "    print(\"the grade is A\")"
   ]
  },
  {
   "cell_type": "markdown",
   "id": "dd961abb-899f-482c-9596-158ef7f907c5",
   "metadata": {},
   "source": [
    "11.A student will not be allowed to sit in exam if his/her attendence is less than 75%.\n",
    "\n",
    "Take following input from user\n",
    "\n",
    "Number of classes held\n",
    "\n",
    "Number of classes attended.\n",
    "\n",
    "And print\n",
    "\n",
    "percentage of class attended\n",
    "\n",
    "Is student is allowed to sit in exam or not."
   ]
  },
  {
   "cell_type": "code",
   "execution_count": 35,
   "id": "202e5822-b515-41fe-b492-d3ff7bb27bfa",
   "metadata": {},
   "outputs": [
    {
     "name": "stdin",
     "output_type": "stream",
     "text": [
      "enter number of classes held: 44\n",
      "enter number of classes attended: 44\n"
     ]
    },
    {
     "name": "stdout",
     "output_type": "stream",
     "text": [
      "the student attendance is 100 %\n",
      "student is allowed to sit in exam\n"
     ]
    }
   ],
   "source": [
    "classheld=int(input(\"enter number of classes held:\"))\n",
    "classattend=int(input(\"enter number of classes attended:\"))\n",
    "percentage = int(classattend/classheld)*100\n",
    "print(\"the student attendance is\",percentage,\"%\")\n",
    "if percentage <75:\n",
    "    print(\"student is not allowed to sit in exam\")\n",
    "else:\n",
    "    print(\"student is allowed to sit in exam\")\n"
   ]
  },
  {
   "cell_type": "markdown",
   "id": "8900d83e-8726-47d9-b1cc-ee16ef7cc086",
   "metadata": {},
   "source": [
    "12. Modify the above question to allow student to sit if he/she has medical cause. Ask user if he/she has medical cause or not ( 'Y' or 'N' ) and print accordingly."
   ]
  },
  {
   "cell_type": "code",
   "execution_count": 37,
   "id": "4adbc817-688f-4b04-badd-184f4052dd35",
   "metadata": {},
   "outputs": [
    {
     "name": "stdin",
     "output_type": "stream",
     "text": [
      "enter number of classes held: 55\n",
      "enter number of classes attended: 4\n",
      "is there any medical cause? Y or N: Y\n"
     ]
    },
    {
     "name": "stdout",
     "output_type": "stream",
     "text": [
      "the student attendance is 0 %\n",
      "student is allowed to sit in exam\n"
     ]
    }
   ],
   "source": [
    "classheld=int(input(\"enter number of classes held:\"))\n",
    "classattend=int(input(\"enter number of classes attended:\"))\n",
    "medical=input(\"is there any medical cause? Y or N:\")\n",
    "percentage = int(classattend/classheld)*100 \n",
    "print(\"the student attendance is\",percentage,\"%\")\n",
    "if percentage <75 and medical == \"N\":\n",
    "    print(\"student is not allowed to sit in exam\")\n",
    "else:\n",
    "    print(\"student is allowed to sit in exam\")\n"
   ]
  },
  {
   "cell_type": "markdown",
   "id": "6f643b76-c3fd-452d-abd2-994b86aad929",
   "metadata": {},
   "source": [
    "13.Write a program to check if a year is leap year or not.\n",
    "If a year is divisible by 4 then it is leap year but if the year is century year like 2000, 1900, 2100 then it must be divisible by 400."
   ]
  },
  {
   "cell_type": "code",
   "execution_count": 38,
   "id": "c592b002-049d-4615-af92-7d93d997df9c",
   "metadata": {},
   "outputs": [
    {
     "name": "stdin",
     "output_type": "stream",
     "text": [
      "enter the year to check leap: 2010\n"
     ]
    },
    {
     "name": "stdout",
     "output_type": "stream",
     "text": [
      "year is not leap\n"
     ]
    }
   ],
   "source": [
    "year = int(input(\"enter the year to check leap:\"))\n",
    "if year&100==0:\n",
    "    if year%4==0:\n",
    "        print(\"year is leap\")\n",
    "    else:\n",
    "        print(\"year is not a leap year\")\n",
    "else:\n",
    "    if year%4==0:\n",
    "        print(\"year is leap\")\n",
    "    else:\n",
    "        print(\"year is not leap\")\n",
    "        "
   ]
  },
  {
   "cell_type": "markdown",
   "id": "6fafae1a-ef2a-4fc5-b0e6-862f49faa4b9",
   "metadata": {},
   "source": [
    "14.Ask user to enter age, gender ( M or F ), marital status ( Y or N ) and then using following rules print their place of service.\n",
    "if employee is female, then she will work only in urban areas.\n",
    "\n",
    "if employee is a male and age is in between 20 to 40 then he may work in anywhere\n",
    "\n",
    "if employee is male and age is in between 40 t0 60 then he will work in urban areas only.\n",
    "\n",
    "And any other input of age should print \"ERROR\""
   ]
  },
  {
   "cell_type": "code",
   "execution_count": 39,
   "id": "4ddfd719-58c0-4528-afb1-8d5d68abcd0e",
   "metadata": {},
   "outputs": [
    {
     "name": "stdin",
     "output_type": "stream",
     "text": [
      "enter your age   34\n",
      "enter M for male and F for female   F\n"
     ]
    },
    {
     "name": "stdout",
     "output_type": "stream",
     "text": [
      "you will work in urban areas only\n"
     ]
    }
   ],
   "source": [
    "age=int(input(\"enter your age  \"))\n",
    "gender=input(\"enter M for male and F for female  \")\n",
    "if gender==(\"F\"):\n",
    "    print(\"you will work in urban areas only\")\n",
    "elif gender==(\"M\"):\n",
    "    if age>=(20) and age<=(40):\n",
    "        print(\"you can work any where\")\n",
    "    elif  age>=(40) and age<=(60):\n",
    "        print(\"you can work in urban areas only\")\n",
    "    else:\n",
    "        print(\"error\")"
   ]
  },
  {
   "cell_type": "markdown",
   "id": "1509a6ba-de44-48df-918c-ea4f4b730764",
   "metadata": {},
   "source": [
    "15.Write a program to calculate the electricity bill (accept number of unit from user) according to the following criteria : Unit Price\n",
    "uptp 100 units no charge Next 200 units Rs 5 per unit After 200 units Rs 10 per unit (For example if input unit is 350 than total bill amount is Rs.3500 (For example if input unit is 97 than total bill amount is Rs.0 (For example if input unit is 150 than total bill amount is Rs.750"
   ]
  },
  {
   "cell_type": "code",
   "execution_count": 40,
   "id": "6fe5736e-831d-4bb7-a041-8c0b5da8bcb3",
   "metadata": {},
   "outputs": [
    {
     "name": "stdin",
     "output_type": "stream",
     "text": [
      "enter the units consumed 2300\n"
     ]
    },
    {
     "name": "stdout",
     "output_type": "stream",
     "text": [
      "the total bill is  23000\n"
     ]
    }
   ],
   "source": [
    "units=int(input(\"enter the units consumed\"))\n",
    "if units<=100:\n",
    "    print(\"the total bill is Rs.0\")\n",
    "elif units<=200:\n",
    "    print(\"the total bill is Rs. \",units*5)\n",
    "else:\n",
    "    print(\"the total bill is \",units*10)"
   ]
  },
  {
   "cell_type": "markdown",
   "id": "efbb510b-7357-4b64-ac3d-be8a2699c93c",
   "metadata": {},
   "source": [
    "16.Take input of age of 3 people by user and determine oldest and youngest among them."
   ]
  },
  {
   "cell_type": "code",
   "execution_count": 41,
   "id": "ccc83b3f-5ed5-4fa6-a594-c87f57a4f136",
   "metadata": {},
   "outputs": [
    {
     "name": "stdin",
     "output_type": "stream",
     "text": [
      "enter the age of p1   44\n",
      "enter the age of p2   33\n",
      "enter the age of p3   55\n"
     ]
    },
    {
     "name": "stdout",
     "output_type": "stream",
     "text": [
      "the eldest is p3\n",
      "the youngest is p2\n"
     ]
    }
   ],
   "source": [
    "p1=int(input(\"enter the age of p1  \"))\n",
    "p2=int(input(\"enter the age of p2  \"))\n",
    "p3=int(input(\"enter the age of p3  \"))\n",
    "if p1>p2 and p2>p3:\n",
    "    print(\"the eldest is p1\")\n",
    "elif p2>p1 and p2>p3:\n",
    "    print(\"the eldest is p2\")\n",
    "else:\n",
    "    print(\"the eldest is p3\")\n",
    "    \n",
    "if p1<p2 and p2<p3:\n",
    "    print(\"the youngest is p1\")\n",
    "elif p2<p1 and p2<p3:\n",
    "    print(\"the youngest is p2\")\n",
    "else:\n",
    "    print(\"the youngest is p3\") "
   ]
  },
  {
   "cell_type": "code",
   "execution_count": null,
   "id": "ea09a989-2d04-4bba-b520-48877201f23a",
   "metadata": {},
   "outputs": [],
   "source": []
  }
 ],
 "metadata": {
  "kernelspec": {
   "display_name": "Python 3 (ipykernel)",
   "language": "python",
   "name": "python3"
  },
  "language_info": {
   "codemirror_mode": {
    "name": "ipython",
    "version": 3
   },
   "file_extension": ".py",
   "mimetype": "text/x-python",
   "name": "python",
   "nbconvert_exporter": "python",
   "pygments_lexer": "ipython3",
   "version": "3.13.5"
  }
 },
 "nbformat": 4,
 "nbformat_minor": 5
}
